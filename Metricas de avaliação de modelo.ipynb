{
 "cells": [
  {
   "cell_type": "markdown",
   "metadata": {},
   "source": [
    "# <a class=\"anchor\" id=\"title\">Avaliando Classificadores - Metricas de avaliação de modelo</a>\n",
    "<img src=\"img/fitaMetric.jpg\" alt=\"drawing\" style=\"width:600px; height:200px\">"
   ]
  },
  {
   "cell_type": "markdown",
   "metadata": {},
   "source": [
    "## <a class=\"anchor\" id=\"table\">Table of Contents</a>\n",
    "\n",
    "I. [Matrix de Confusão](#ConfusionMatrix)<br>\n",
    "II. [Acuracidade](#accuracy)<br>\n",
    "III. [Precisão](#precision)<br>\n",
    "IV. [Recall](#recall)<br>\n",
    "A. [Referências](#refs)<br>\n"
   ]
  },
  {
   "cell_type": "code",
   "execution_count": 1,
   "metadata": {},
   "outputs": [],
   "source": [
    "import numpy as np\n",
    "import random\n",
    "\n",
    "\n",
    "%matplotlib inline\n",
    "\n",
    "from util import matrix_confusao\n",
    "from plot_chart import plot_confusion_matrix\n",
    "\n",
    "# Metrics\n",
    "from sklearn.metrics import accuracy_score, precision_score, recall_score\n"
   ]
  },
  {
   "cell_type": "markdown",
   "metadata": {},
   "source": [
    "Dado y:"
   ]
  },
  {
   "cell_type": "code",
   "execution_count": 2,
   "metadata": {},
   "outputs": [
    {
     "name": "stdout",
     "output_type": "stream",
     "text": [
      "[1, 1, 0, 0, 0, 0, 1, 0, 1, 1, 1, 1, 0, 1, 0, 0, 1, 1, 1, 1, 0, 1, 0, 1, 0, 0, 0, 1, 1, 1, 1, 0, 1, 0, 0, 1, 0, 0, 0, 0, 1, 1, 1, 1, 0, 0, 0, 1, 0, 1, 0, 0, 1, 0, 1, 1, 0, 1, 1, 0, 1, 1, 1, 1, 1, 0, 1, 1, 1, 1, 0, 1, 1, 1, 1, 1, 0, 1, 1, 1, 1, 0, 1, 1, 0, 1, 1, 1, 0, 0, 1, 1, 1, 1, 1, 0, 1, 1, 0, 1]\n"
     ]
    }
   ],
   "source": [
    "p = random.uniform(0.6, 0.8)\n",
    "y = [np.random.choice([0, 1], p=[1-p, p]) for i in range(100)]\n",
    "print(y)"
   ]
  },
  {
   "cell_type": "markdown",
   "metadata": {},
   "source": [
    "### Naive Predictor Performace"
   ]
  },
  {
   "cell_type": "code",
   "execution_count": 3,
   "metadata": {},
   "outputs": [],
   "source": [
    "def random_predictors(n_predictors, n_predictions):\n",
    "    predictions = []\n",
    "    for n in range(n_predictors):\n",
    "        p = random.uniform(0.6, 0.8)\n",
    "        pred = [np.random.choice([0, 1], p=[1-p, p]) for i in range(n_predictions)]\n",
    "        predictions.append((p, pred))\n",
    "    return predictions, pred"
   ]
  },
  {
   "cell_type": "code",
   "execution_count": 4,
   "metadata": {},
   "outputs": [
    {
     "name": "stdout",
     "output_type": "stream",
     "text": [
      "[(0.6664062314393243, [0, 1, 1, 1, 0, 1, 1, 1, 1, 1, 1, 1, 1, 1, 1, 1, 0, 1, 1, 0, 1, 1, 1, 0, 0, 1, 0, 1, 0, 1, 1, 1, 0, 1, 0, 1, 1, 1, 1, 1, 1, 1, 1, 1, 1, 0, 0, 1, 1, 0, 0, 1, 1, 1, 0, 1, 0, 1, 1, 0, 1, 1, 1, 1, 0, 1, 1, 1, 1, 1, 1, 1, 1, 1, 0, 1, 1, 1, 0, 1, 1, 1, 0, 0, 1, 1, 1, 1, 0, 1, 1, 1, 1, 1, 0, 1, 1, 0, 0, 1])]\n"
     ]
    }
   ],
   "source": [
    "preds_list, preds = random_predictors(1, 100)\n",
    "print(preds_list [0:2])"
   ]
  },
  {
   "cell_type": "markdown",
   "metadata": {},
   "source": [
    "## <a class=\"anchor\" id=\"ConfusionMatrix\"> Matriz de confusão</a>"
   ]
  },
  {
   "cell_type": "code",
   "execution_count": 66,
   "metadata": {},
   "outputs": [],
   "source": [
    "from util import matrix_confusao"
   ]
  },
  {
   "cell_type": "code",
   "execution_count": 67,
   "metadata": {},
   "outputs": [
    {
     "data": {
      "text/plain": [
       "array([[47, 27],\n",
       "       [15, 11]], dtype=int64)"
      ]
     },
     "execution_count": 67,
     "metadata": {},
     "output_type": "execute_result"
    }
   ],
   "source": [
    "conf_mtx = matrix_confusao(y, preds)\n",
    "conf_mtx"
   ]
  },
  {
   "cell_type": "code",
   "execution_count": 62,
   "metadata": {},
   "outputs": [
    {
     "data": {
      "text/plain": [
       "array([[11, 27],\n",
       "       [15, 47]], dtype=int64)"
      ]
     },
     "execution_count": 62,
     "metadata": {},
     "output_type": "execute_result"
    }
   ],
   "source": [
    "from sklearn.metrics import confusion_matrix\n",
    "confusion_matrix(y, preds)"
   ]
  },
  {
   "cell_type": "code",
   "execution_count": 6,
   "metadata": {},
   "outputs": [
    {
     "data": {
      "image/png": "[encoded data removed]",
      "text/plain": [
       "<Figure size 864x432 with 2 Axes>"
      ]
     },
     "metadata": {
      "needs_background": "light"
     },
     "output_type": "display_data"
    }
   ],
   "source": [
    "plot_confusion_matrix(cm           = conf_mtx, \n",
    "                      normalize    = False,\n",
    "                      target_names = ['positive', 'negative'],\n",
    "                      title        = \"Confusion Matrix\")"
   ]
  },
  {
   "cell_type": "markdown",
   "metadata": {},
   "source": [
    "As colunas, predicted label, fazem referencias as predições enquanto as linhas, true label, fazem referencias aos valores corretos.\n",
    "\n",
    "Dado que 1 é positivo e 0 é negativo.\n",
    "\n",
    "|Valor        |Linha + coluna|Observação|\n",
    "|-------------|--------------|----------|\n",
    "|True Positive (TP)|positive + positive |O valor correto é positivo e o modelo preditou corretamente como positivo|  \n",
    "|False positive (FP)|Negativo + Positive|O valor correto é negativo porém o modelo predicou erradamente como positivo |\n",
    "|False Negative (FN)|Positive + negative|O valor correto é positivo porém o modelo predicou erradamente como negativo | \n",
    "|True Negative (TN)|negative + negative |O valor correto é negativo e o modelo predicou corretamente como negtivo|  "
   ]
  },
  {
   "cell_type": "code",
   "execution_count": 23,
   "metadata": {},
   "outputs": [],
   "source": [
    "# Baseado nos resultados apresentados temos:\n",
    "amostra = len(y)\n",
    "TP = conf_mtx[0, 0] \n",
    "FP = conf_mtx[0, 1]\n",
    "FN = conf_mtx[1, 0]\n",
    "TN = conf_mtx[1, 1]"
   ]
  },
  {
   "cell_type": "markdown",
   "metadata": {},
   "source": [
    "## <a class=\"anchor\" id=\"accuracy\">Acuracidade</a>\n",
    "\n",
    "Quantas classificações foram feitas corretamente pelo modelo?\n",
    "\n",
    "$$Accuracy (acc) = \\frac{ True Positive + True Negative }{amostra}$$"
   ]
  },
  {
   "cell_type": "code",
   "execution_count": 37,
   "metadata": {},
   "outputs": [
    {
     "name": "stdout",
     "output_type": "stream",
     "text": [
      "O modelo classificou 0.58 de forma correta\n"
     ]
    }
   ],
   "source": [
    "acc = (TP+TN)/amostra\n",
    "print(f\"O modelo classificou {acc} de forma correta\")"
   ]
  },
  {
   "cell_type": "code",
   "execution_count": 40,
   "metadata": {},
   "outputs": [
    {
     "name": "stdout",
     "output_type": "stream",
     "text": [
      "O modelo classificou 58% de forma correta\n"
     ]
    }
   ],
   "source": [
    "# https://scikit-learn.org/stable/modules/generated/sklearn.metrics.accuracy_score.html\n",
    "acc = accuracy_score(y, preds, normalize=False)\n",
    "print(f\"O modelo classificou {acc}% de forma correta\")"
   ]
  },
  {
   "cell_type": "markdown",
   "metadata": {},
   "source": [
    "## <a class=\"anchor\" id=\"precision\">Precisão</a>\n",
    "\n",
    "Qual a proporção de acerto para todos os pontos preditos como positivos?\n",
    "\n",
    "$$Precision = \\frac{ True Positive }{True Positive + False Positive}$$\n",
    "\n",
    "Objetivo: Evitar falsos positivos"
   ]
  },
  {
   "cell_type": "code",
   "execution_count": 53,
   "metadata": {},
   "outputs": [
    {
     "name": "stdout",
     "output_type": "stream",
     "text": [
      "A proporção de acerto em predições positivas é 0.64\n"
     ]
    }
   ],
   "source": [
    "precision = TP/(TP+FP)\n",
    "print(f\"A proporção de acerto em predições positivas é {precision:.2f}\")"
   ]
  },
  {
   "cell_type": "code",
   "execution_count": 52,
   "metadata": {},
   "outputs": [
    {
     "data": {
      "text/plain": [
       "0.6351351351351351"
      ]
     },
     "execution_count": 52,
     "metadata": {},
     "output_type": "execute_result"
    }
   ],
   "source": [
    "# https://scikit-learn.org/stable/modules/generated/sklearn.metrics.precision_score.html\n",
    "precision_score(y, preds, average='binary')"
   ]
  },
  {
   "cell_type": "markdown",
   "metadata": {},
   "source": [
    "## <a class=\"anchor\" id=\"recall\">Recall</a>\n",
    "\n",
    "De todos os pontos que são verdadeiramente positivo, qual a proporção para os rotulados como positivo (predição correta) mais os rotulados como negativo (predição incorreta).\n",
    "\n",
    "$$Recall = \\frac{ True Positive }{True Positive + False Negative}$$\n",
    "\n",
    "Objetivo: Evitar Falsos negativos"
   ]
  },
  {
   "cell_type": "code",
   "execution_count": 60,
   "metadata": {},
   "outputs": [
    {
     "name": "stdout",
     "output_type": "stream",
     "text": [
      "O recall do modelo é 0.76.Uma pontuação próximo de 1 indica que o modelo prediz poucos falsos negativos\n"
     ]
    }
   ],
   "source": [
    "recall = TP/(TP+FN)\n",
    "print(f\"O recall do modelo é {recall:.2f}.\\\n",
    "Uma pontuação próximo de 1 indica que o modelo prediz poucos falsos negativos\")"
   ]
  },
  {
   "cell_type": "code",
   "execution_count": 68,
   "metadata": {},
   "outputs": [
    {
     "data": {
      "text/plain": [
       "0.7580645161290323"
      ]
     },
     "execution_count": 68,
     "metadata": {},
     "output_type": "execute_result"
    }
   ],
   "source": [
    "# https://scikit-learn.org/stable/modules/generated/sklearn.metrics.recall_score.html\n",
    "recall_score(y, preds, average='binary')"
   ]
  },
  {
   "cell_type": "markdown",
   "metadata": {},
   "source": [
    "## <a class=\"anchor\" id=\"refs\">Referência</a>\n",
    "\n",
    "[Data Scientist Nanodegree](https://www.udacity.com/)\n",
    "\n",
    "[Data Science para negocios](https://amzn.to/3629tNM)"
   ]
  },
  {
   "cell_type": "code",
   "execution_count": null,
   "metadata": {},
   "outputs": [],
   "source": []
  },
  {
   "cell_type": "markdown",
   "metadata": {},
   "source": [
    "[Voltar ao inicio](#table)<br>"
   ]
  }
 ],
 "metadata": {
  "kernelspec": {
   "display_name": "Python 3",
   "language": "python",
   "name": "python3"
  },
  "language_info": {
   "codemirror_mode": {
    "name": "ipython",
    "version": 3
   },
   "file_extension": ".py",
   "mimetype": "text/x-python",
   "name": "python",
   "nbconvert_exporter": "python",
   "pygments_lexer": "ipython3",
   "version": "3.7.5"
  }
 },
 "nbformat": 4,
 "nbformat_minor": 2
}
