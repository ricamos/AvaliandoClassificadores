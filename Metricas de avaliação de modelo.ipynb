{
 "cells": [
  {
   "cell_type": "markdown",
   "metadata": {},
   "source": [
    "# <a class=\"anchor\" id=\"table\">Table of Contents</a>\n",
    "\n",
    "I. [Matrix de Confusão](#ConfusionMatrix)<br>\n",
    "II. [Acuracidade](#accuracy)<br>\n",
    "III. [Precisão](#precision)<br>\n",
    "IV. [Recall](#recall)<br>\n"
   ]
  },
  {
   "cell_type": "code",
   "execution_count": 1,
   "metadata": {},
   "outputs": [],
   "source": [
    "import numpy as np\n",
    "import random\n",
    "\n",
    "\n",
    "%matplotlib inline\n",
    "\n",
    "from util import matrix_confusao\n",
    "from plot_chart import plot_confusion_matrix\n",
    "\n",
    "# Metrics\n",
    "from sklearn.metrics import accuracy_score, precision_score, recall_score\n"
   ]
  },
  {
   "cell_type": "markdown",
   "metadata": {},
   "source": [
    "Dado y:"
   ]
  },
  {
   "cell_type": "code",
   "execution_count": 2,
   "metadata": {},
   "outputs": [
    {
     "data": {
      "text/plain": [
       "[1, 1, 1, 0, 1]"
      ]
     },
     "execution_count": 2,
     "metadata": {},
     "output_type": "execute_result"
    }
   ],
   "source": [
    "p = random.uniform(0.6, 0.8)\n",
    "y = [np.random.choice([0, 1], p=[1-p, p]) for i in range(100)]\n",
    "y[:5]"
   ]
  },
  {
   "cell_type": "markdown",
   "metadata": {},
   "source": [
    "### Naive Predictor Performace"
   ]
  },
  {
   "cell_type": "code",
   "execution_count": 3,
   "metadata": {},
   "outputs": [],
   "source": [
    "def random_predictors(n_predictors, n_predictions):\n",
    "    predictions = []\n",
    "    for n in range(n_predictors):\n",
    "        p = random.uniform(0.6, 0.8)\n",
    "        pred = [np.random.choice([0, 1], p=[1-p, p]) for i in range(n_predictions)]\n",
    "        predictions.append((p, pred))\n",
    "    return predictions, pred"
   ]
  },
  {
   "cell_type": "code",
   "execution_count": 4,
   "metadata": {},
   "outputs": [
    {
     "name": "stdout",
     "output_type": "stream",
     "text": [
      "[(0.6065809227419694, [1, 0, 1, 0, 1, 0, 0, 1, 0, 1, 1, 1, 0, 0, 1, 0, 1, 1, 0, 0, 0, 0, 0, 1, 0, 1, 0, 1, 1, 0, 1, 0, 1, 0, 1, 1, 1, 1, 0, 0, 1, 1, 1, 1, 0, 0, 0, 0, 1, 0, 0, 1, 1, 0, 0, 1, 0, 0, 1, 1, 1, 0, 1, 0, 1, 0, 1, 0, 1, 0, 0, 1, 1, 0, 0, 1, 1, 1, 0, 1, 1, 0, 1, 1, 1, 0, 0, 0, 1, 0, 0, 1, 1, 0, 0, 1, 1, 0, 0, 1])]\n"
     ]
    }
   ],
   "source": [
    "preds_list, preds = random_predictors(1, 100)\n",
    "print(preds_list [0:2])"
   ]
  },
  {
   "cell_type": "markdown",
   "metadata": {},
   "source": [
    "## <a class=\"anchor\" id=\"ConfusionMatrix\"> Matriz de confusão</a>"
   ]
  },
  {
   "cell_type": "code",
   "execution_count": 5,
   "metadata": {},
   "outputs": [
    {
     "data": {
      "text/plain": [
       "array([[37, 35],\n",
       "       [14, 14]], dtype=int64)"
      ]
     },
     "execution_count": 5,
     "metadata": {},
     "output_type": "execute_result"
    }
   ],
   "source": [
    "conf_mtx = matrix_confusao(y, preds)\n",
    "conf_mtx"
   ]
  },
  {
   "cell_type": "code",
   "execution_count": 6,
   "metadata": {},
   "outputs": [
    {
     "data": {
      "image/png": "[encoded data removed]",
      "text/plain": [
       "<Figure size 864x432 with 2 Axes>"
      ]
     },
     "metadata": {
      "needs_background": "light"
     },
     "output_type": "display_data"
    }
   ],
   "source": [
    "plot_confusion_matrix(cm           = conf_mtx, \n",
    "                      normalize    = False,\n",
    "                      target_names = ['positive', 'negative'],\n",
    "                      title        = \"Confusion Matrix\")"
   ]
  },
  {
   "cell_type": "markdown",
   "metadata": {},
   "source": [
    "As colunas, predicted label, fazem referencias as predições enquanto as linhas, true label, fazem referencias aos valores corretos.\n",
    "\n",
    "Dado que 1 é positivo e 0 é negativo.\n",
    "\n",
    "|Valor        |Linha + coluna|Observação|\n",
    "|-------------|--------------|----------|\n",
    "|True Positive (TP)|positive + positive |O valor correto é positivo e o modelo preditou corretamente como positivo|  \n",
    "|True Negative (TN)|negative + negative |O valor correto é negativo e o modelo predicou corretamente como negtivo|  \n",
    "|False Negative (FN)|Positive + negative|O valor correto é negativo porém o modelo predicou erradamente como positivo | \n",
    "|False positive (FP)|Negativo + Positive|O valor correto é negativo porém o modelo predicou erradamente como positivo |"
   ]
  },
  {
   "cell_type": "code",
   "execution_count": 7,
   "metadata": {},
   "outputs": [],
   "source": [
    "# Baseado nos resultados apresentados temos:\n",
    "amostra = len(y)\n",
    "TP = conf_mtx[0, 0] \n",
    "FN = conf_mtx[0, 1]\n",
    "FP = conf_mtx[1, 0]\n",
    "TN = conf_mtx[1, 1]"
   ]
  },
  {
   "cell_type": "markdown",
   "metadata": {},
   "source": [
    "## <a class=\"anchor\" id=\"accuracy\">Acuracidade</a>\n",
    "\n",
    "Quantas classificações foram feitas corretamente pelo modelo?\n",
    "\n",
    "$$Accuracy (acc) = \\frac{ True Positive + True Negative }{amostra}$$"
   ]
  },
  {
   "cell_type": "code",
   "execution_count": 8,
   "metadata": {},
   "outputs": [
    {
     "name": "stdout",
     "output_type": "stream",
     "text": [
      "0.51\n"
     ]
    }
   ],
   "source": [
    "acc = (TP+TN)/amostra\n",
    "print(acc)"
   ]
  },
  {
   "cell_type": "code",
   "execution_count": 9,
   "metadata": {},
   "outputs": [
    {
     "data": {
      "text/plain": [
       "0.51"
      ]
     },
     "execution_count": 9,
     "metadata": {},
     "output_type": "execute_result"
    }
   ],
   "source": [
    "# https://scikit-learn.org/stable/modules/generated/sklearn.metrics.accuracy_score.html\n",
    "accuracy_score(y, preds, normalize=True)"
   ]
  },
  {
   "cell_type": "markdown",
   "metadata": {},
   "source": [
    "## <a class=\"anchor\" id=\"precision\">Precisão</a>\n",
    "\n",
    "De todos os pontos preditos como positivo, qual a proporção de pontos que verdadeiramente são positivos (predição correta) e dos pontos verdadeiramente negativos (predição incorreta).\n",
    "\n",
    "$$Precisão = \\frac{ True Positive }{True Positive + False Positive}$$\n",
    "\n",
    "Objetivo: Evitar falsos negativos"
   ]
  },
  {
   "cell_type": "code",
   "execution_count": 10,
   "metadata": {},
   "outputs": [
    {
     "name": "stdout",
     "output_type": "stream",
     "text": [
      "0.7254901960784313\n"
     ]
    }
   ],
   "source": [
    "precision = TP/(TP+FP)\n",
    "print(precision)"
   ]
  },
  {
   "cell_type": "code",
   "execution_count": 11,
   "metadata": {},
   "outputs": [
    {
     "data": {
      "text/plain": [
       "0.7254901960784313"
      ]
     },
     "execution_count": 11,
     "metadata": {},
     "output_type": "execute_result"
    }
   ],
   "source": [
    "# https://scikit-learn.org/stable/modules/generated/sklearn.metrics.precision_score.html\n",
    "precision_score(y, preds, average='binary')"
   ]
  },
  {
   "cell_type": "markdown",
   "metadata": {},
   "source": [
    "## <a class=\"anchor\" id=\"recall\">Recall</a>\n",
    "\n",
    "De todos os pontos que são verdadeiramente positivo, qual a proporção dos rotulados como positivo (predição correta) e dos rotulados como negativo (predição incorreta).\n",
    "\n",
    "$$Precisão = \\frac{ True Positive }{True Positive + False Negative}$$\n",
    "\n",
    "Objetivo: Evitar Falsos Positivos"
   ]
  },
  {
   "cell_type": "code",
   "execution_count": 12,
   "metadata": {},
   "outputs": [
    {
     "name": "stdout",
     "output_type": "stream",
     "text": [
      "0.5138888888888888\n"
     ]
    }
   ],
   "source": [
    "recall = TP/(TP+FN)\n",
    "print(recall)"
   ]
  },
  {
   "cell_type": "code",
   "execution_count": 13,
   "metadata": {},
   "outputs": [
    {
     "data": {
      "text/plain": [
       "0.5138888888888888"
      ]
     },
     "execution_count": 13,
     "metadata": {},
     "output_type": "execute_result"
    }
   ],
   "source": [
    "# https://scikit-learn.org/stable/modules/generated/sklearn.metrics.recall_score.html\n",
    "recall_score(y, preds, average='binary')"
   ]
  },
  {
   "cell_type": "markdown",
   "metadata": {},
   "source": [
    "[Voltar ao inicio](#table)<br>"
   ]
  }
 ],
 "metadata": {
  "kernelspec": {
   "display_name": "Python 3",
   "language": "python",
   "name": "python3"
  },
  "language_info": {
   "codemirror_mode": {
    "name": "ipython",
    "version": 3
   },
   "file_extension": ".py",
   "mimetype": "text/x-python",
   "name": "python",
   "nbconvert_exporter": "python",
   "pygments_lexer": "ipython3",
   "version": "3.7.5"
  }
 },
 "nbformat": 4,
 "nbformat_minor": 2
}
